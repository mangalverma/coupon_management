{
 "cells": [
  {
   "cell_type": "code",
   "execution_count": 16,
   "id": "f55d7333",
   "metadata": {},
   "outputs": [],
   "source": [
    "import requests\n",
    "import pandas as pd\n",
    "import json\n",
    "import ast"
   ]
  },
  {
   "cell_type": "markdown",
   "id": "51143ed1",
   "metadata": {},
   "source": [
    "# Check Applicable Coupon"
   ]
  },
  {
   "cell_type": "code",
   "execution_count": 29,
   "id": "a3fd8358",
   "metadata": {},
   "outputs": [
    {
     "data": {
      "text/html": [
       "<div>\n",
       "<style scoped>\n",
       "    .dataframe tbody tr th:only-of-type {\n",
       "        vertical-align: middle;\n",
       "    }\n",
       "\n",
       "    .dataframe tbody tr th {\n",
       "        vertical-align: top;\n",
       "    }\n",
       "\n",
       "    .dataframe thead th {\n",
       "        text-align: right;\n",
       "    }\n",
       "</style>\n",
       "<table border=\"1\" class=\"dataframe\">\n",
       "  <thead>\n",
       "    <tr style=\"text-align: right;\">\n",
       "      <th></th>\n",
       "      <th>id</th>\n",
       "      <th>items</th>\n",
       "    </tr>\n",
       "  </thead>\n",
       "  <tbody>\n",
       "    <tr>\n",
       "      <th>0</th>\n",
       "      <td>1</td>\n",
       "      <td>[{\"product_id\": 1, \"quantity\": 6, \"price\": 50}...</td>\n",
       "    </tr>\n",
       "    <tr>\n",
       "      <th>1</th>\n",
       "      <td>2</td>\n",
       "      <td>[{\"product_id\": 4, \"quantity\": 1, \"price\": 100...</td>\n",
       "    </tr>\n",
       "    <tr>\n",
       "      <th>2</th>\n",
       "      <td>3</td>\n",
       "      <td>[{\"product_id\": 1, \"quantity\": 3, \"price\": 50}...</td>\n",
       "    </tr>\n",
       "  </tbody>\n",
       "</table>\n",
       "</div>"
      ],
      "text/plain": [
       "   id                                              items\n",
       "0   1  [{\"product_id\": 1, \"quantity\": 6, \"price\": 50}...\n",
       "1   2  [{\"product_id\": 4, \"quantity\": 1, \"price\": 100...\n",
       "2   3  [{\"product_id\": 1, \"quantity\": 3, \"price\": 50}..."
      ]
     },
     "execution_count": 29,
     "metadata": {},
     "output_type": "execute_result"
    }
   ],
   "source": [
    "carts_df = pd.read_csv(\"/home/mangal/Music/coupon_management/dummy_data/coupons.csv - carts.csv\")\n",
    "carts_df"
   ]
  },
  {
   "cell_type": "code",
   "execution_count": 39,
   "id": "db81cc33",
   "metadata": {},
   "outputs": [
    {
     "name": "stdout",
     "output_type": "stream",
     "text": [
      "{'detail': [{'type': 'json_type', 'loc': ['body', 'items'], 'msg': 'JSON input should be string, bytes or bytearray', 'input': {'items': '[{\"product_id\": 1, \"quantity\": 6, \"price\": 50}, {\"product_id\": 2, \"quantity\": 3, \"price\": 30}, {\"product_id\": 3, \"quantity\": 2, \"price\": 25}]'}}]}\n",
      "{'detail': [{'type': 'json_type', 'loc': ['body', 'items'], 'msg': 'JSON input should be string, bytes or bytearray', 'input': {'items': '[{\"product_id\": 1, \"quantity\": 6, \"price\": 50}, {\"product_id\": 2, \"quantity\": 3, \"price\": 30}, {\"product_id\": 3, \"quantity\": 2, \"price\": 25}]'}}]}\n",
      "{'detail': [{'type': 'json_type', 'loc': ['body', 'items'], 'msg': 'JSON input should be string, bytes or bytearray', 'input': {'items': '[{\"product_id\": 1, \"quantity\": 6, \"price\": 50}, {\"product_id\": 2, \"quantity\": 3, \"price\": 30}, {\"product_id\": 3, \"quantity\": 2, \"price\": 25}]'}}]}\n"
     ]
    }
   ],
   "source": [
    "for i,row in carts_df.iterrows():\n",
    "    res = requests.post(\"http://127.0.0.1:5002/applicable-coupons\" ,headers= {'Content-type': 'application/json'}, data = json.dumps({'items':d}))\n",
    "    print(res.json())"
   ]
  },
  {
   "cell_type": "markdown",
   "id": "4ff88527",
   "metadata": {},
   "source": []
  },
  {
   "cell_type": "code",
   "execution_count": null,
   "id": "3a66c1d3",
   "metadata": {},
   "outputs": [],
   "source": [
    "[{\\\"product_id\\\": 1, \\\"quantity\\\": 6, \\\"price\\\": 50}, {\\\"product_id\\\": 2, \\\"quantity\\\": 3, \\\"price\\\": 30}, {\\\"product_id\\\": 3, \\\"quantity\\\": 2, \\\"price\\\": 25}]"
   ]
  },
  {
   "cell_type": "markdown",
   "id": "954d2c28",
   "metadata": {},
   "source": []
  },
  {
   "cell_type": "code",
   "execution_count": 37,
   "id": "4b0ea4a5",
   "metadata": {},
   "outputs": [
    {
     "data": {
      "text/plain": [
       "{'detail': [{'type': 'json_invalid',\n",
       "   'loc': ['body', 0],\n",
       "   'msg': 'JSON decode error',\n",
       "   'input': {},\n",
       "   'ctx': {'error': 'Expecting value'}}]}"
      ]
     },
     "execution_count": 37,
     "metadata": {},
     "output_type": "execute_result"
    }
   ],
   "source": [
    "res = requests.post(\"http://127.0.0.1:5002/applicable-coupons\" ,headers= {'Content-type': 'application/json'}, data = {'items':[{\"product_id\":3,\"quantity\":2}]})\n",
    "res.json()"
   ]
  },
  {
   "cell_type": "code",
   "execution_count": null,
   "id": "35bc037a",
   "metadata": {},
   "outputs": [],
   "source": []
  },
  {
   "cell_type": "code",
   "execution_count": null,
   "id": "44104e38",
   "metadata": {},
   "outputs": [],
   "source": []
  },
  {
   "cell_type": "code",
   "execution_count": null,
   "id": "69f5e062",
   "metadata": {},
   "outputs": [],
   "source": []
  },
  {
   "cell_type": "code",
   "execution_count": null,
   "id": "a41ce830",
   "metadata": {},
   "outputs": [],
   "source": []
  }
 ],
 "metadata": {
  "kernelspec": {
   "display_name": "Python 3 (ipykernel)",
   "language": "python",
   "name": "python3"
  },
  "language_info": {
   "codemirror_mode": {
    "name": "ipython",
    "version": 3
   },
   "file_extension": ".py",
   "mimetype": "text/x-python",
   "name": "python",
   "nbconvert_exporter": "python",
   "pygments_lexer": "ipython3",
   "version": "3.9.7"
  }
 },
 "nbformat": 4,
 "nbformat_minor": 5
}
